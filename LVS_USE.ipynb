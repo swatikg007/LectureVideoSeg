{
  "nbformat": 4,
  "nbformat_minor": 0,
  "metadata": {
    "colab": {
      "provenance": [],
      "collapsed_sections": []
    },
    "kernelspec": {
      "name": "python3",
      "display_name": "Python 3"
    }
  },
  "cells": [
    {
      "cell_type": "markdown",
      "metadata": {
        "id": "q2vlqQFRb9XQ"
      },
      "source": [
        "# Lecture Video Fragmentation using Universal Sentence Encoder"
      ]
    },
    {
      "cell_type": "code",
      "metadata": {
        "id": "cpEs9Z31C3yT",
        "colab": {
          "base_uri": "https://localhost:8080/"
        },
        "outputId": "5620a953-7f04-48cf-c166-819546ac0bea"
      },
      "source": [
        "import nltk\n",
        "nltk.download()"
      ],
      "execution_count": null,
      "outputs": [
        {
          "output_type": "stream",
          "text": [
            "NLTK Downloader\n",
            "---------------------------------------------------------------------------\n",
            "    d) Download   l) List    u) Update   c) Config   h) Help   q) Quit\n",
            "---------------------------------------------------------------------------\n",
            "Downloader> d\n",
            "\n",
            "Download which package (l=list; x=cancel)?\n",
            "  Identifier> all\n",
            "    Downloading collection 'all'\n",
            "       | \n",
            "       | Downloading package abc to /root/nltk_data...\n",
            "       |   Unzipping corpora/abc.zip.\n",
            "       | Downloading package alpino to /root/nltk_data...\n",
            "       |   Unzipping corpora/alpino.zip.\n",
            "       | Downloading package biocreative_ppi to /root/nltk_data...\n",
            "       |   Unzipping corpora/biocreative_ppi.zip.\n",
            "       | Downloading package brown to /root/nltk_data...\n",
            "       |   Unzipping corpora/brown.zip.\n",
            "       | Downloading package brown_tei to /root/nltk_data...\n",
            "       |   Unzipping corpora/brown_tei.zip.\n",
            "       | Downloading package cess_cat to /root/nltk_data...\n",
            "       |   Unzipping corpora/cess_cat.zip.\n",
            "       | Downloading package cess_esp to /root/nltk_data...\n",
            "       |   Unzipping corpora/cess_esp.zip.\n",
            "       | Downloading package chat80 to /root/nltk_data...\n",
            "       |   Unzipping corpora/chat80.zip.\n",
            "       | Downloading package city_database to /root/nltk_data...\n",
            "       |   Unzipping corpora/city_database.zip.\n",
            "       | Downloading package cmudict to /root/nltk_data...\n",
            "       |   Unzipping corpora/cmudict.zip.\n",
            "       | Downloading package comparative_sentences to\n",
            "       |     /root/nltk_data...\n",
            "       |   Unzipping corpora/comparative_sentences.zip.\n",
            "       | Downloading package comtrans to /root/nltk_data...\n",
            "       | Downloading package conll2000 to /root/nltk_data...\n",
            "       |   Unzipping corpora/conll2000.zip.\n",
            "       | Downloading package conll2002 to /root/nltk_data...\n",
            "       |   Unzipping corpora/conll2002.zip.\n",
            "       | Downloading package conll2007 to /root/nltk_data...\n",
            "       | Downloading package crubadan to /root/nltk_data...\n",
            "       |   Unzipping corpora/crubadan.zip.\n",
            "       | Downloading package dependency_treebank to /root/nltk_data...\n",
            "       |   Unzipping corpora/dependency_treebank.zip.\n",
            "       | Downloading package dolch to /root/nltk_data...\n",
            "       |   Unzipping corpora/dolch.zip.\n",
            "       | Downloading package europarl_raw to /root/nltk_data...\n",
            "       |   Unzipping corpora/europarl_raw.zip.\n",
            "       | Downloading package floresta to /root/nltk_data...\n",
            "       |   Unzipping corpora/floresta.zip.\n",
            "       | Downloading package framenet_v15 to /root/nltk_data...\n",
            "       |   Unzipping corpora/framenet_v15.zip.\n",
            "       | Downloading package framenet_v17 to /root/nltk_data...\n",
            "       |   Unzipping corpora/framenet_v17.zip.\n",
            "       | Downloading package gazetteers to /root/nltk_data...\n",
            "       |   Unzipping corpora/gazetteers.zip.\n",
            "       | Downloading package genesis to /root/nltk_data...\n",
            "       |   Unzipping corpora/genesis.zip.\n",
            "       | Downloading package gutenberg to /root/nltk_data...\n",
            "       |   Unzipping corpora/gutenberg.zip.\n",
            "       | Downloading package ieer to /root/nltk_data...\n",
            "       |   Unzipping corpora/ieer.zip.\n",
            "       | Downloading package inaugural to /root/nltk_data...\n",
            "       |   Unzipping corpora/inaugural.zip.\n",
            "       | Downloading package indian to /root/nltk_data...\n",
            "       |   Unzipping corpora/indian.zip.\n",
            "       | Downloading package jeita to /root/nltk_data...\n",
            "       | Downloading package kimmo to /root/nltk_data...\n",
            "       |   Unzipping corpora/kimmo.zip.\n",
            "       | Downloading package knbc to /root/nltk_data...\n",
            "       | Downloading package lin_thesaurus to /root/nltk_data...\n",
            "       |   Unzipping corpora/lin_thesaurus.zip.\n",
            "       | Downloading package mac_morpho to /root/nltk_data...\n",
            "       |   Unzipping corpora/mac_morpho.zip.\n",
            "       | Downloading package machado to /root/nltk_data...\n",
            "       | Downloading package masc_tagged to /root/nltk_data...\n",
            "       | Downloading package moses_sample to /root/nltk_data...\n",
            "       |   Unzipping models/moses_sample.zip.\n",
            "       | Downloading package movie_reviews to /root/nltk_data...\n",
            "       |   Unzipping corpora/movie_reviews.zip.\n",
            "       | Downloading package names to /root/nltk_data...\n",
            "       |   Unzipping corpora/names.zip.\n",
            "       | Downloading package nombank.1.0 to /root/nltk_data...\n",
            "       | Downloading package nps_chat to /root/nltk_data...\n",
            "       |   Unzipping corpora/nps_chat.zip.\n",
            "       | Downloading package omw to /root/nltk_data...\n",
            "       |   Unzipping corpora/omw.zip.\n",
            "       | Downloading package opinion_lexicon to /root/nltk_data...\n",
            "       |   Unzipping corpora/opinion_lexicon.zip.\n",
            "       | Downloading package paradigms to /root/nltk_data...\n",
            "       |   Unzipping corpora/paradigms.zip.\n",
            "       | Downloading package pil to /root/nltk_data...\n",
            "       |   Unzipping corpora/pil.zip.\n",
            "       | Downloading package pl196x to /root/nltk_data...\n",
            "       |   Unzipping corpora/pl196x.zip.\n",
            "       | Downloading package ppattach to /root/nltk_data...\n",
            "       |   Unzipping corpora/ppattach.zip.\n",
            "       | Downloading package problem_reports to /root/nltk_data...\n",
            "       |   Unzipping corpora/problem_reports.zip.\n",
            "       | Downloading package propbank to /root/nltk_data...\n",
            "       | Downloading package ptb to /root/nltk_data...\n",
            "       |   Unzipping corpora/ptb.zip.\n",
            "       | Downloading package product_reviews_1 to /root/nltk_data...\n",
            "       |   Unzipping corpora/product_reviews_1.zip.\n",
            "       | Downloading package product_reviews_2 to /root/nltk_data...\n",
            "       |   Unzipping corpora/product_reviews_2.zip.\n",
            "       | Downloading package pros_cons to /root/nltk_data...\n",
            "       |   Unzipping corpora/pros_cons.zip.\n",
            "       | Downloading package qc to /root/nltk_data...\n",
            "       |   Unzipping corpora/qc.zip.\n",
            "       | Downloading package reuters to /root/nltk_data...\n",
            "       | Downloading package rte to /root/nltk_data...\n",
            "       |   Unzipping corpora/rte.zip.\n",
            "       | Downloading package semcor to /root/nltk_data...\n",
            "       | Downloading package senseval to /root/nltk_data...\n",
            "       |   Unzipping corpora/senseval.zip.\n",
            "       | Downloading package sentiwordnet to /root/nltk_data...\n",
            "       |   Unzipping corpora/sentiwordnet.zip.\n",
            "       | Downloading package sentence_polarity to /root/nltk_data...\n",
            "       |   Unzipping corpora/sentence_polarity.zip.\n",
            "       | Downloading package shakespeare to /root/nltk_data...\n",
            "       |   Unzipping corpora/shakespeare.zip.\n",
            "       | Downloading package sinica_treebank to /root/nltk_data...\n",
            "       |   Unzipping corpora/sinica_treebank.zip.\n",
            "       | Downloading package smultron to /root/nltk_data...\n",
            "       |   Unzipping corpora/smultron.zip.\n",
            "       | Downloading package state_union to /root/nltk_data...\n",
            "       |   Unzipping corpora/state_union.zip.\n",
            "       | Downloading package stopwords to /root/nltk_data...\n",
            "       |   Unzipping corpora/stopwords.zip.\n",
            "       | Downloading package subjectivity to /root/nltk_data...\n",
            "       |   Unzipping corpora/subjectivity.zip.\n",
            "       | Downloading package swadesh to /root/nltk_data...\n",
            "       |   Unzipping corpora/swadesh.zip.\n",
            "       | Downloading package switchboard to /root/nltk_data...\n",
            "       |   Unzipping corpora/switchboard.zip.\n",
            "       | Downloading package timit to /root/nltk_data...\n",
            "       |   Unzipping corpora/timit.zip.\n",
            "       | Downloading package toolbox to /root/nltk_data...\n",
            "       |   Unzipping corpora/toolbox.zip.\n",
            "       | Downloading package treebank to /root/nltk_data...\n",
            "       |   Unzipping corpora/treebank.zip.\n",
            "       | Downloading package twitter_samples to /root/nltk_data...\n",
            "       |   Unzipping corpora/twitter_samples.zip.\n",
            "       | Downloading package udhr to /root/nltk_data...\n",
            "       |   Unzipping corpora/udhr.zip.\n",
            "       | Downloading package udhr2 to /root/nltk_data...\n",
            "       |   Unzipping corpora/udhr2.zip.\n",
            "       | Downloading package unicode_samples to /root/nltk_data...\n",
            "       |   Unzipping corpora/unicode_samples.zip.\n",
            "       | Downloading package universal_treebanks_v20 to\n",
            "       |     /root/nltk_data...\n",
            "       | Downloading package verbnet to /root/nltk_data...\n",
            "       |   Unzipping corpora/verbnet.zip.\n",
            "       | Downloading package verbnet3 to /root/nltk_data...\n",
            "       |   Unzipping corpora/verbnet3.zip.\n",
            "       | Downloading package webtext to /root/nltk_data...\n",
            "       |   Unzipping corpora/webtext.zip.\n",
            "       | Downloading package wordnet to /root/nltk_data...\n",
            "       |   Unzipping corpora/wordnet.zip.\n",
            "       | Downloading package wordnet_ic to /root/nltk_data...\n",
            "       |   Unzipping corpora/wordnet_ic.zip.\n",
            "       | Downloading package words to /root/nltk_data...\n",
            "       |   Unzipping corpora/words.zip.\n",
            "       | Downloading package ycoe to /root/nltk_data...\n",
            "       |   Unzipping corpora/ycoe.zip.\n",
            "       | Downloading package rslp to /root/nltk_data...\n",
            "       |   Unzipping stemmers/rslp.zip.\n",
            "       | Downloading package maxent_treebank_pos_tagger to\n",
            "       |     /root/nltk_data...\n",
            "       |   Unzipping taggers/maxent_treebank_pos_tagger.zip.\n",
            "       | Downloading package universal_tagset to /root/nltk_data...\n",
            "       |   Unzipping taggers/universal_tagset.zip.\n",
            "       | Downloading package maxent_ne_chunker to /root/nltk_data...\n",
            "       |   Unzipping chunkers/maxent_ne_chunker.zip.\n",
            "       | Downloading package punkt to /root/nltk_data...\n",
            "       |   Unzipping tokenizers/punkt.zip.\n",
            "       | Downloading package book_grammars to /root/nltk_data...\n",
            "       |   Unzipping grammars/book_grammars.zip.\n",
            "       | Downloading package sample_grammars to /root/nltk_data...\n",
            "       |   Unzipping grammars/sample_grammars.zip.\n",
            "       | Downloading package spanish_grammars to /root/nltk_data...\n",
            "       |   Unzipping grammars/spanish_grammars.zip.\n",
            "       | Downloading package basque_grammars to /root/nltk_data...\n",
            "       |   Unzipping grammars/basque_grammars.zip.\n",
            "       | Downloading package large_grammars to /root/nltk_data...\n",
            "       |   Unzipping grammars/large_grammars.zip.\n",
            "       | Downloading package tagsets to /root/nltk_data...\n",
            "       |   Unzipping help/tagsets.zip.\n",
            "       | Downloading package snowball_data to /root/nltk_data...\n",
            "       | Downloading package bllip_wsj_no_aux to /root/nltk_data...\n",
            "       |   Unzipping models/bllip_wsj_no_aux.zip.\n",
            "       | Downloading package word2vec_sample to /root/nltk_data...\n",
            "       |   Unzipping models/word2vec_sample.zip.\n",
            "       | Downloading package panlex_swadesh to /root/nltk_data...\n",
            "       | Downloading package mte_teip5 to /root/nltk_data...\n",
            "       |   Unzipping corpora/mte_teip5.zip.\n",
            "       | Downloading package averaged_perceptron_tagger to\n",
            "       |     /root/nltk_data...\n",
            "       |   Unzipping taggers/averaged_perceptron_tagger.zip.\n",
            "       | Downloading package averaged_perceptron_tagger_ru to\n",
            "       |     /root/nltk_data...\n",
            "       |   Unzipping taggers/averaged_perceptron_tagger_ru.zip.\n",
            "       | Downloading package perluniprops to /root/nltk_data...\n",
            "       |   Unzipping misc/perluniprops.zip.\n",
            "       | Downloading package nonbreaking_prefixes to\n",
            "       |     /root/nltk_data...\n",
            "       |   Unzipping corpora/nonbreaking_prefixes.zip.\n",
            "       | Downloading package vader_lexicon to /root/nltk_data...\n",
            "       | Downloading package porter_test to /root/nltk_data...\n",
            "       |   Unzipping stemmers/porter_test.zip.\n",
            "       | Downloading package wmt15_eval to /root/nltk_data...\n",
            "       |   Unzipping models/wmt15_eval.zip.\n",
            "       | Downloading package mwa_ppdb to /root/nltk_data...\n",
            "       |   Unzipping misc/mwa_ppdb.zip.\n",
            "       | \n",
            "     Done downloading collection all\n",
            "\n",
            "---------------------------------------------------------------------------\n",
            "    d) Download   l) List    u) Update   c) Config   h) Help   q) Quit\n",
            "---------------------------------------------------------------------------\n",
            "Downloader> q\n"
          ],
          "name": "stdout"
        },
        {
          "output_type": "execute_result",
          "data": {
            "text/plain": [
              "True"
            ]
          },
          "metadata": {
            "tags": []
          },
          "execution_count": 1
        }
      ]
    },
    {
      "cell_type": "code",
      "metadata": {
        "id": "LuTJQi0UY6ZV"
      },
      "source": [
        "import datetime\n",
        "import math\n",
        "\n",
        "from nltk.tag import pos_tag\n",
        "from nltk.tokenize import word_tokenize\n",
        "from nltk import RegexpParser\n",
        "\n",
        "import tensorflow as tf\n",
        "import tensorflow_hub as hub\n",
        "import numpy as np\n",
        "import matplotlib.pyplot as plt\n",
        "\n",
        "from scipy import signal"
      ],
      "execution_count": null,
      "outputs": []
    },
    {
      "cell_type": "markdown",
      "metadata": {
        "id": "Awo-m3uGVxiN"
      },
      "source": [
        "We'll be using this regular expression to chunk the parsed text into noun phrases"
      ]
    },
    {
      "cell_type": "code",
      "metadata": {
        "id": "Ncmq8UNqVn8Q"
      },
      "source": [
        "NP = r\"\"\"\n",
        "    NBAR:\n",
        "        {<DT>?<NN.*|JJ>*<NN.*>}\n",
        "    NP:\n",
        "        {<NBAR>}\n",
        "        {<NBAR><IN><NBAR>}\n",
        "\"\"\"\n",
        "NP_chunker = RegexpParser(NP)"
      ],
      "execution_count": null,
      "outputs": []
    },
    {
      "cell_type": "markdown",
      "metadata": {
        "id": "E8YgvCF9WrhY"
      },
      "source": [
        "Load the Universal Sentence Encoder model"
      ]
    },
    {
      "cell_type": "code",
      "metadata": {
        "id": "mnV0CQj7WFDW",
        "colab": {
          "base_uri": "https://localhost:8080/"
        },
        "outputId": "4c64b292-050f-4cd2-f3d1-978ec5c6ec5c"
      },
      "source": [
        "module_url = \"https://tfhub.dev/google/universal-sentence-encoder/4\" \n",
        "model = hub.load(module_url)\n",
        "print (\"module %s loaded\" % module_url)\n",
        "def embed(input):\n",
        "  return model(input)"
      ],
      "execution_count": null,
      "outputs": [
        {
          "output_type": "stream",
          "text": [
            "module https://tfhub.dev/google/universal-sentence-encoder/4 loaded\n"
          ],
          "name": "stdout"
        }
      ]
    },
    {
      "cell_type": "markdown",
      "metadata": {
        "id": "7zCAZVOsXJEe"
      },
      "source": [
        "Read the subtitle file and GT file"
      ]
    },
    {
      "cell_type": "code",
      "metadata": {
        "id": "7qumZs2jXMjw"
      },
      "source": [
        "#def read_file(path):\n",
        "# file = open(path)\n",
        "# content = file.read().split(\"\\n\")\n",
        "#  file.close()\n",
        "#  start_times = []\n",
        "#  sentences = []\n",
        "#  for i in range(0, len(content), 2):\n",
        "#    if (len(str(content[i])) > 0 and len(str(content[i + 1])) > 0):\n",
        "#      start_time = str(content[i]).split(\":\")\n",
        "#      hour = 0\n",
        "#      minute = 0\n",
        "#      seconds = int(start_time[1])\n",
        "#      if (int(start_time[0]) >= 60):\n",
        "#        hour = int(start_time[0]) // 60\n",
        "#        minute = int(start_time[0]) % 60\n",
        "#      else:\n",
        "#        minute = int(start_time[0])\n",
        "#      date_time_value = datetime.time(hour, minute, seconds)\n",
        "#      start_times.append(date_time_value)\n",
        "#      sentences.append(content[i + 1])\n",
        "#  return sentences, start_times\n",
        "#\n",
        "#def read_gt_file(path):\n",
        "#    file = open(path)\n",
        "#    content = file.read().split(\"\\n\")\n",
        "#    file.close()\n",
        "#    start_times = []\n",
        "#    for line in content:\n",
        "#        line_content = line.split(\" \")\n",
        "#        time_string = line_content[0]\n",
        "#        start_times.append(datetime.datetime.strptime(time_string, \"%H:%M:%S\"))\n",
        "#    return start_times\n",
        "  \n",
        "#subtitles, init_times = read_file(\"/content/sample_data/Data 3.txt\")\n",
        "#gt_start_times = read_gt_file(\"/content/sample_data/GT3.txt\")\n",
        "\n",
        "#print(len(subtitles), len(init_times))\n",
        "#print(gt_start_times[0:2])\n",
        "#print(\"no. of actual segments: \" + str(len(gt_start_times)))"
      ],
      "execution_count": null,
      "outputs": []
    },
    {
      "cell_type": "markdown",
      "metadata": {
        "id": "0SoqLqFuZb-M"
      },
      "source": [
        "Clean the text (tokenizing, POS tagging and NP (Noun Phrase) chunking)"
      ]
    },
    {
      "cell_type": "code",
      "metadata": {
        "colab": {
          "base_uri": "https://localhost:8080/"
        },
        "id": "kPWYLCg-7XV2",
        "outputId": "a662f968-7cb1-4dc9-effe-4ec70b2b4a75"
      },
      "source": [
        "pip install pysub-parser"
      ],
      "execution_count": null,
      "outputs": [
        {
          "output_type": "stream",
          "text": [
            "Collecting pysub-parser\n",
            "  Downloading https://files.pythonhosted.org/packages/1b/c1/bb80a41c0855549ca18b2dff77f6b13def17ff9cbf78b073a2173505a563/pysub_parser-1.4.1-py3-none-any.whl\n",
            "Collecting unidecode\n",
            "\u001b[?25l  Downloading https://files.pythonhosted.org/packages/9e/25/723487ca2a52ebcee88a34d7d1f5a4b80b793f179ee0f62d5371938dfa01/Unidecode-1.2.0-py2.py3-none-any.whl (241kB)\n",
            "\r\u001b[K     |█▍                              | 10kB 17.5MB/s eta 0:00:01\r\u001b[K     |██▊                             | 20kB 23.7MB/s eta 0:00:01\r\u001b[K     |████                            | 30kB 19.1MB/s eta 0:00:01\r\u001b[K     |█████▍                          | 40kB 17.4MB/s eta 0:00:01\r\u001b[K     |██████▉                         | 51kB 19.8MB/s eta 0:00:01\r\u001b[K     |████████▏                       | 61kB 14.3MB/s eta 0:00:01\r\u001b[K     |█████████▌                      | 71kB 13.1MB/s eta 0:00:01\r\u001b[K     |██████████▉                     | 81kB 14.3MB/s eta 0:00:01\r\u001b[K     |████████████▏                   | 92kB 13.1MB/s eta 0:00:01\r\u001b[K     |█████████████▋                  | 102kB 13.2MB/s eta 0:00:01\r\u001b[K     |███████████████                 | 112kB 13.2MB/s eta 0:00:01\r\u001b[K     |████████████████▎               | 122kB 13.2MB/s eta 0:00:01\r\u001b[K     |█████████████████▋              | 133kB 13.2MB/s eta 0:00:01\r\u001b[K     |███████████████████             | 143kB 13.2MB/s eta 0:00:01\r\u001b[K     |████████████████████▍           | 153kB 13.2MB/s eta 0:00:01\r\u001b[K     |█████████████████████▊          | 163kB 13.2MB/s eta 0:00:01\r\u001b[K     |███████████████████████         | 174kB 13.2MB/s eta 0:00:01\r\u001b[K     |████████████████████████▍       | 184kB 13.2MB/s eta 0:00:01\r\u001b[K     |█████████████████████████▊      | 194kB 13.2MB/s eta 0:00:01\r\u001b[K     |███████████████████████████▏    | 204kB 13.2MB/s eta 0:00:01\r\u001b[K     |████████████████████████████▌   | 215kB 13.2MB/s eta 0:00:01\r\u001b[K     |█████████████████████████████▉  | 225kB 13.2MB/s eta 0:00:01\r\u001b[K     |███████████████████████████████▏| 235kB 13.2MB/s eta 0:00:01\r\u001b[K     |████████████████████████████████| 245kB 13.2MB/s \n",
            "\u001b[?25hInstalling collected packages: unidecode, pysub-parser\n",
            "Successfully installed pysub-parser-1.4.1 unidecode-1.2.0\n"
          ],
          "name": "stdout"
        }
      ]
    },
    {
      "cell_type": "code",
      "metadata": {
        "id": "AjFgf1rt7A6T"
      },
      "source": [
        "from pysubparser import parser\n",
        "from pysubparser.cleaners import brackets, lower_case, formatting\n",
        "import datetime"
      ],
      "execution_count": null,
      "outputs": []
    },
    {
      "cell_type": "code",
      "metadata": {
        "id": "4lhEPwje_R-c"
      },
      "source": [
        "subs = parser.parse(\n",
        "    \"/content/sample_data/0003.srt\")\n",
        "\n",
        "subs = brackets.clean(\n",
        "    lower_case.clean(\n",
        "        formatting.clean(\n",
        "            subs\n",
        "        )\n",
        "    )\n",
        ")\n",
        "\n",
        "init_times = []\n",
        "subtitles = []\n",
        "for sub in subs:\n",
        "  subtitles.append(sub.text)\n",
        "  init_times.append(sub.start)\n",
        "\n",
        "gt_file = open(\n",
        "    \"/content/sample_data/0003.txt\", \"r\")\n",
        "gt_file_content = gt_file.read().split(\"\\n\")\n",
        "gt_start_times = []\n",
        "for fc in gt_file_content:\n",
        "    st_time = fc.split(\"\\t\")\n",
        "    if (len(st_time) > 1):\n",
        "        gt_start_times.append(\n",
        "            datetime.datetime.strptime(st_time[1], \"%H:%M:%S,%f\"))\n",
        "gt_file.close()"
      ],
      "execution_count": null,
      "outputs": []
    },
    {
      "cell_type": "code",
      "metadata": {
        "id": "ObR-TF46Zbhl",
        "colab": {
          "base_uri": "https://localhost:8080/"
        },
        "outputId": "6b6f383d-ad04-4a71-cd7f-f8fc87ac388e"
      },
      "source": [
        "def prepare_text(subs):\n",
        "    sentences = []\n",
        "    for s in subs:\n",
        "        sentences.append(s)\n",
        "\n",
        "    sentences = [word_tokenize(sent) for sent in sentences]\n",
        "    sentences = [pos_tag(w) for w in sentences]\n",
        "    sentences = [NP_chunker.parse(sent) for sent in sentences]\n",
        "    return sentences\n",
        "\n",
        "\n",
        "def parsed_text_to_noun_phrases(sentences):\n",
        "    nps = []\n",
        "    for sent in sentences:\n",
        "        tree = NP_chunker.parse(sent)\n",
        "        for subtree in tree.subtrees():\n",
        "            if subtree.label() == \"NP\":\n",
        "                t = subtree\n",
        "                t = ' '.join(word for word, tag in t.leaves())\n",
        "                nps.append(t)\n",
        "    return nps\n",
        "\n",
        "cleaned_text = prepare_text(subtitles)\n",
        "noun_phrases = parsed_text_to_noun_phrases(cleaned_text)\n",
        "print(noun_phrases)\n",
        "print(\"Number of noun phrases: \" + str(len(noun_phrases)))"
      ],
      "execution_count": null,
      "outputs": [
        {
          "output_type": "stream",
          "text": [
            "['example', 'different edges', 'i', 'the space', 'edge', 'partitions', 'pieces', 'i', 'another piece', 'cetera', 'a whole bunch', 'some problems', 'i', 'i', 'another tree', 'ok', 'i', 'this out', 'look', 'some wearing', 'the edges', 'a whole bunch', 'subproblems', 'an approach', 'dynamic programming', 'a surprise', 'yes', 'tree exhibits', 'powerful properties', 'ok', 'the clues', 'dynamic programming', 'club', 'powerful technique', 'the whole', 'greedy algorithms', 'a thing', 'the greedy', 'choice', 'cause', 'these hallmarks', 'the kind', 'thing', 'boxes', 'the clues', 'this property', 'greedy choice problem show', 'this case', 'choice property', 'dynamic programming', 'dynamic programming properties', 'a clue', 'yes', 'this greedy property', 'something', 'dynamic programming', 'dynamic programming', 'whoa', 'the theorem', 'proof', 'this idea', 'c', 'these hallmarks', 'things', 'heuristics', 'an algorithm', 'dynamic programming', 'work', 'greedy algorithms work', 'i', 'the kind', 'structure', 'the first term', 't', 'the mst', 'course paragraph', 'any subset', 'some subset', 'vertices', 'weight edge', 'complement', 'essay', 'the theorem', 'the minimum spanning tree', 'a look', 'graph', 'fact', 'the case', 'thing i', 'a singleton', 'a singleton node let', 'this guy', 'everything', 'b minus', 'i look', 'weight edge', 'everything', 'edges', 'everything', 'theorem', 'the minimum spanning tree', 'a look', 'vertex', 'i', 'edge', 'that vertex', 'the minimum spanning tree', 'weight vertex edge', 'the edges', 'imagine let', 'let', 'a look', 'vertices', 'this set', 'vertices', 'edges', 'the minimum spanning tree', 'i', 'this way', 'the ones', 'the minimum spanning tree', 'matter', 'i', 'this one', 'out', 'a look', 'the edges', 'weight', 'the minimum spanning tree', 'some sense', 'a local property', 'the rest', 'the tree', 'some small set', 'vertices', 'i', 'that set', 'vertices', 'the world', 'these patterns', 'the same number', 'black nodes', 'leaf', 'these properties', 'everybody', 'the same data', 'the black eyed', 'the room', 'property property', 'this transformation', 'the red nodes', 'the black nodes height equals black i', 'i', 'the root', 'pads', 'i', 'these nodes', 'the same level', 'leaves', 'the same levels', 'good things', 'the museo', 'tree', 'the nodes', 'children', 'the same level', 'cable', 'some form', 'i', 'the height', 'the tree', 'h', 'the height', 'the original tree', 'this page', 'the first thing', 'h', 'the first question', 'many leaves', 'this tree', 'stream', 'i', 'anything', 'other industry', 'industry', 'general search', 'this example', 'many keys', 'the function', 'large values', 'good correct answer', 'look', 'the binary tree case', 'sort', 'the key', 'good argument', 'a branching binary tree', 'every internal node', 'children', 'the number', 'leaves', 'that process', 'terms', 'the number', 'internal nodes', 'the number', 'leaves', 'the tree', 'tree', 'the number internal nodes', 'induction', 'the number', 'plus-one one', 'single child', 'every internal node', 'french infrastructure', 'ok', 'some relation', 'the number', 'leaves', 'the height', 'the tree', 'the good relations', 'many leaves', 'the height', 'this look', 'the height', 'i', 'tree', 'hi h', 'many leaves', 'the minimum', 'maximum number', 'the age', 'hrh crown', 'tree', 'times', 'ways', 'each node', 'the age', 'i', 'every node branches', 'ways', 'the key', 'care', 'i', 'this one', 'the age', 'the number', 'the take logs', 'science', 'a nice balance tree', 'ways', 'the leaves', 'the same level', 'the perfect tree', 'log base', 'the height', 'the tree', 'branching', 'things', 'some sense', 'leaves', 'the same height', 'the height', 'terms', 'the number', 'the number', 'leaves', 'the board', 'o thing', 'i', 'the roles', 'volume', 'front', 'i', 'look', 'boy i', 'all i', 'this one', 'i', 'the blackboard', 'the blackboard', 'professor model', 'irreducible postings', 'professor watson', 'o o', 'the blackboard', 'stay', 'the others', 'the others', 'no problem', 'this one', 'stick', 'a right', 'rosa right', 'mit', 'that mistake', 'i', 'the idea', 'conservation', 'charge', 'i', 'charge', 'the student', 'beating students', 'capture', 'the story', 'a particular chart', 'i', 'the opposite charge', 'charts', 'i', 'someone', 'i', 'a youngster', 'i', 'a student', 'many years', 'i', 'a youngster', 'name', 'alex alex', 'i', 'the right', 'something', 'this tool', 'quantity', 'the same value', 'different values', 'x x', 'the point', 'general function', 'x', 'a b', 'c', 'i', 'an arbitrary freedom', 'any value', 'i', 'the graphical model', 'the following', 'a set', 'conditional independence statements', 'the fact', 'something', 'this kind', 'i', 'the original object image', 'representation probabilistic', 'the bibles', 'conditional independence bowl', 'biology', 'conditions', 'construct', 'condition', 'the graphical model', 'the family', 'probability distributions', 'conditional independence statements', 'the graph', 'any probability distribution', 'set', 'conditions', 'an element', 'graphical model', 'a graphical model', 'a single probability distribution', 'family', 'probability distributions', 'those conditional independence', 'the product distribution', 'the probability', 'the probability', 'this position', 'the same number', 'an important question', 'the basis', 'i', 'a complete characterisation', 'the class conditional', 'distribution', 'a set', 'conditional independence statements', 'the questions', 'parameters', 'the model', 'want', 'probabilities', 'particular outcomes', 'interesting realizations', 'example', 'site', 'realisation', 'years', 'another names', 'joint realization', 'the probabilistic model', 'things', 'questions', 'twenty member', 'the first lecture', 'question', 'way', 'general probabilistic approaches model', 'order', 'this question', 'these probabilities', 'the probability function', 'the structures', 'the problem', 'ways', 'yes', 'this national department', 'ok', 'the criteria', 'o thing', 'parameter', 'a sample', 'an estimate', 'common types', 'the criteria', 'nothing meaningful', 'the criteria', 'a function', 'the data', 'ground', 'p', 'x look', 'ok', 'let', 'look', 'probability distribution p', 'x', 'x', 'let', 'these conditions', 'hold', 'let', 'work', 'prior distribution', 'the first thing', 'the conditional distribution', 'x', 'x', 'times p', 'this conditional independence', 'the initial condition', 'this condition', 'the marginal distribution', 'the state house', 'g', 'the polya urn scheme', 'bayesian nonparametrics', 'lots', 'lots', 'the stick', 'construction', 'the polya urn scheme', 'the idea', 'this scheme', 'ok', 'ball think', 'a ball', 'no balls', 'the urn', 'each iteration', 'possible events', 'probability proportional', 'theta', 'iteration', 'probability proportional', 'theta', 'a base distribution h', 'the fate', 'the value', 'the fetus', 'the color', 'the colour', 'the ball', 'a ball', 'the first iteration', 'probability proportional', 'region today', 'a ball', 'random', 'rock record', 'the colour', 'the ball', 'balls', 'the same colour', 'the first iteration', 'probability', 'h', 'the ball', 'colour', 'ball', 'colour', 'the next iteration', 'probability alpha', 'i', 'the same thing', 'the colour', 'the ball', 'the column', 'today', 'probability', 'class', 'work', 'the region', 'ball', 'this case', 'the theta', 'ball', 'colour', 'balls', 'the same colour', 'infinite', 'the colours', 'theta', 'theta', 'record', 'this scheme', 'a draw', 'theta', 'g', 'the conditional distributions', 'the colour', 'the colours', 'the first n minus', 'balls withdrawn', 'the distribution', 'theta', 'the conditional distribution', 'probability alpha', 'h', 'probability', 'alpha theta', 'the same value', 'the i', 'this polymer', 'some sort', 'a representative', 'the dirichlet process', 'these conditional distributions', 'kind', 'a finite mixture model', 'some sort', 'a finite projection', 'the infinite dimensional object', 'g', 'any questions', 'simple construction', 'the next process', 'the next representation', 'the dirichlet process', 'the chinese restaurant', 'process', 'another metaphor', 'the dirichlet process', 'the chinese restaurant process', 'theta', 'the set', 'values', 'this polya urn scheme', 'this thing', 'values', 'test', 'the probability', 'ties', 'this list', 'the same value', 'the state i', 'k different clusters', 'each cluster', 'a value', 'this fate', 'stylist', 'example', 'that way', 'the rule', 'theta', 'a partition', 'the sequence', 'different fate', 'the same value', 'the chinese restaurant process', 'the distribution', 'partitions', 'this process', 'the nice thing', 'the chinese restaurant', 'this kind', 'different effect', 'the actual value', 'the test', 'the base distribution', 'the second one', 'the clustering structure', 'the state s', 'the chinese restaurant process counter', 'the clustering structure', 'base distribution', 'the generative process', 'this chinese restaurant process', 'the first customer', 'sits', 'the first table', 'customer', 'table number', 'subsequent customers', 'customer', 'table k', 'probability', 'k', 'class', 'k', 'example', 'fuse', 'strings', 'length', 'a inspection', 'works', 'this matrix', 'twenty', 'the feature space', 'sparse data structure', 'speedup', 'factor', 'ok', 'computers', 'users', 'access', 'each dimension', 'the w', 'some index', 'example', 'operations', 'cities', 'zero', 'scalar value', 'component', 'w', 'component', 'w', 'the operation', 'large data sets', 'this use storage', 'an explicit', 'explicit', 'dimensionality', 'a lot', 'course', 'sort', 'area', 'something', 'the look', 'course', 'someone', 'use', 'example', 'the suffix tries trees', 'this table', 'costs', 'these data structures', 'the suffix tree', 'one', 'linear time', 'look', 'sequence', 'a huge overhead', 'memory storage', 'forty', 'unit', 'one', 'i', 'w', 'big memory', 'an explicit map', 'areas', 'memory', 'the conclusion', 'small forbid', 'example', 'recent work', 'large alphabets', 'low high order', 'large format', 'suffix', 'ok', 'a spokesman classifier', 'speedups', 'vector machines', 'the whole human genome sort', 'data points', 'this vegetable problems', 'the only problem', 'course', 'many many support vectors', 'the trick', 'decomposers', 'some subparts', 'i', 'a whole new home', 'the support vector machine training', 'another number', 'tricks', 'self-supporting machine', 'a sum decomposition i', 'smo', 'caching', 'fishing', 'the number', 'data points', 'discussion', 'memory', 'this district', 'crashing', 'a lot lot', 'the future', 'the ideas', 'the senate ranking svm', 'choose', 'some working set', 'the put', 'the problems', 'the thing', 'each iteration', 'the output', 'the training', 'the good news', 'these variables', 'optimisation', 'operations', 'some kind', 'knowledge', 'ok', 'the updates', 'this sort', 'each iteration', 'f', 'zero', 'the vectors', 'the working', 'that approach', 'the w', 'the working set', 'this quantity', 'this technique', 'this way', 'the competition', 'svm optimise', 'course', 'the number', 'examples highland', 'a series', 'normal lines', 'this curve', 'one-dimensional signal processing', 'feature detection', 'these lines', 'course', 'the snakes', 'next methodology', 'principle', 'feature maps', 'the entire image', 'the reason', 'the work', 'a good hypothesis', 'the work', 'one-dimensional prior image processing', 'this series', 'normals', 'a particular configuration', 'the contour', 'the search', 'those normal lines', 'interesting thing', 'i', 'a little bit', 'a regression problem', 'i', 'a graph', 'x', 'some data points', 'i', 'order', 'sum', 'squares', 'points', 'a point', 'something', 'the parameters x', 'that graph y', 'y', 'x', 'a little bit', 'a parametric curve', 'dimensions', 'the graph', 'i search', 'features', 'these normals', 'the particular point intersect', 'i', 'the feature', 'dimensional point', 'spacetime', 'this point', 'towards', 'this point', 'the section', 'the true curve', 'section', 'the initial curve', 'this point', 'other words', 'a lot', 'the displacement', 'the curve', 'i', 'information', 'the position', 'the curve', 'this blue dot', 'a sort', 'ten', 'observation', 'the tangent', 'the curve', 'a particular point', 'particular parameter', 'the curve', 'about', 'initial curve rx', 'a new curve rx', 's', 'some slippage', 'the parameterisation', 'these normal lines', 'parameter values', 'squares measures', 'displacement', 'the normal direction', 'the screen', 'course', 'a term', 'emits', 'investors', 'the normal kind', 'sum', 'error term', 'dot product', 'normal curve', 'the influence', 'this particular data point', 'the initial estimate', 'an observed curve', 'particular points', 'that curve', 'innovations', 'the things', 'error terms', 'the innovation', 'the difference', 'the predicted position', 'the point', 'the curve', 'the corresponding position', 'the new feature curve', 'influence', 'the normal direction', 'the way', 'a least squares', 'an observation matrix h', 's little age', 'original observation matrix h', 'capital hfs', 'normal vector', 'hms', 'matrix', 'the fine space', 'the age', 'matrix', 'influence', 'that normal curve', 'i', 'a while', 'i covariance', 'a few slides', 'the line', 'variances', 'these girls', 'the moment', 'a geometrical construction', 'the initial k', 'a recursive least squares', 'the curve', 'end', 'this algorithm', 'notes', 'a partial solution', 'this curve', 'problem', 'fact', 'intermediate point', 'the virtue', 'recursive solutions', 'squares problems', 'stop', 'estimate', 'the position', 'curve', 'the data', 'i', 'step', 'matrix', 'a product', 'vectors', 'information matrix', 'the information', 'measurement', 'variance idea', 'a product', 'the h vector', 'information component', 'the total information', 'the point i', 'the curve', 'the total statistical information', 'i', 'i', 'dictionaries', 'the things', 'some day', 'somebody', 'the location', 'the data', 'the shore', 'proposition', 'the dictionary', 'key', 'the data', 'instance', 'images', 'people', 'years', 'wavelets', 'years', 'dictionary', 'the natural images', 'the works', 'hand', 'the kind', 'world', 'today', 'this disease', 'a large scale', 'the problem', 'scale image poses problems', 'sense', 'values', 'factorisation programs', 'negative decisions', 'the formulation', 'pca', 'the first division', 'the problem', 'image processing tasks', 'the image y', 'the original image ix', 'simple algorithm', 'days', 'state-of-the-art results', 'image', 'all overlapping', 'the small size', 'o point', 'instance', 'a large number', 'instance', 'mil mi', 'the one', 'the set', 'patches', 'a few number', 'the matter', 'i', 'the point', 'the town', 'the stuff', 'the city', 'laughs', 'the problem', 'small sparse', 'problems', 'the feature', 'i', 'the image', 'twenty', 'batch', 'the alpha i', 'many teammates', 'such belongs', 'the city limits', 'ticket image', 'an example', 'the same middle', 'the state', 'the art', 'image thing', 'image denoising', 'the left hand', 'those emails', 'the kind', 'applications images', 'instance', 'the whole image i', 'image compression', 'this image', 'the left leg', 'image', 'the pixels', 'the house', 'the left', 'the looks', 'an example', 'the nineteen h', 'the size', 'the formulation', 'the training', 'detail', 'the c', 'd', 'people', 'the whole', 'number', 'the columns', 'nonconvex optimisation problem', 'the eu', 'the convex optimisation problem', 'a large number', 'small convex optimisation', 'the musicians', 'the musicians', 'alpha', 'quality', 'the first index i', 'variable x', 'times', 'the column', 'minus', 'matrix', 'zero', 'equations', 'the variable x j', 'left', 'the variable w i', 'the right', 'i', 'this uh', 'some examples', 'a few seconds', 'gas', 'elimination', 'standard tyre girl', 'column', 'process', 'a matrix', 'gauss', 'elimination', 'this rearrangement', 'the y axis', 'the w', 'a kind kind', 'this several times', 'the notation', 'some nonbasic variables', 'x subscript', 'the original x variables', 'original w variables', 'basic variables', 'the rest', 'the variables', 'the x', 'a coefficients multiplayer', 'orbital till period', 'the numbers', 'the elimination type step', 'a pivot', 'the way', 'change', 'the variables', 'way', 'the problem', 'the whole point', 'algebraic rearranging', 'the equations', 'the rearrangement', 'this back', 'the problem', 'a different way', 'different variables', 'different variables', 'fundamental variables', 'a different set variables', 'the winners', 'these iterations', 'a constant appearing', 'the current value', 'the objective function', 'the internet i', 'i', 'a local version', 'let', 'demo', 'the problem', 'tool', 'feasible problems', 'a feasible problem right', 'this particular problem', 'i', 'objective coefficients', 'x form', 'a decision', 'i', 'i', 'coefficient', 'topic', 'i', 'the column', 'these variables', 'the dictionary solution', 'the solution', 'x', 'enter increase', 'this w', 'starts', 'a rate', 'this one', 'gon', 'i', 'the w', 'equals', 'other ones', 'a negative number', 'this little box', 'the negative side', 'w', 'w', 'w', 'complex nouns', 'the right kind', 'the verbal abstract noun', 'the class', 'suffixes', 'meant', 'ireland', 'semantics', 'those amounts', 'the derivation', 'a key', 'this rule', 'the verbsemtrans canonical solution', 'assertion', 'the possessor', 'the victims', 'the coverage', 'the future', 'lots', 'ask questions', 'the cyc lexicon', 'the cyc kb', 'access', 'the school ontological engineering stuff', 'a valueable predicates', 'exceptions', 'the rules', 'means', 'lexicon', 'lexical entries', 'mappings', 'form', 'meaning', 'inference rules', 'kind', 'an interesting enterprise', 'innerstad copperhead forces', 'side', 'i', 'i', 'i', 'course', 'this area', 'years', 'the rule', 'days', 'this one', 'course', 'the room', 'one', 'this presentation', 'the stanford center', 'professional development', 'i', 'today', 'talk', 'rap', 'discussion', 'factor analysis', 'step', 'parts', 'the derivation', 'factor analysis', 'few steps', 'derivation', 'mistakes people', 'sounds', 'factor analysis', 'right', 'the same ideas', 'problems', 'the second half', 'the structure', 'the principal component analysis', 'the dimensionality reduction', 'the previous lecture i', 'the properties', 'gases distributions', 'the value', 'portions', 'the axes', 'i mean', 'covariance sigma', 'the partition vector', 'sigma', 'partition matrix', 'sink', 'terms', 'some blocks', 'the distribution', 'facts', 'the answer', 'last time', 'the marginal distribution', 'calcium', 'mean mu', 'covariance sigma', 'sigma', 'one', 'the upper left block', 'covariance matrix sigma', 'no surprise', 'the formula', 'conditional distributions', 'the first one', 'last time', 'the distribution', 'x y', 'x', 'calcium', 'the road', 'a sequence', 'this one', 'these formulas', 'a pair', 'joint calcium random variables', 'x example vectors', 'compute', 'the conditional distributions', 'the periods', 'the east', 'o', 'the marginal formula', 'i', 'the e step', 'factor analysis', 'the form', 'the game', 'last time', 'factor analysis', 'model', 'an unsupervised learning problem', 'unlabeled training', 'each side', 'a vector', 'rn', 'the density', 'x', 'a model', 'acts', 'the latent variables', 'mean', 'identity covariance', 'dimensional thing', 'the axis', 'mu', 'lung disease', 'ceylon', 'epsilon', 'mean zero', 'the covariance matrix', 'the parameters', 'the model', 'an intentional vector', 'london', 'dimensional vector', 'the matrix', 'the diagonal', 'the diagonal', 'the matrix', 'i', 'the cartoon i', 'lost time', 'factor analysis', 'the typical sample', 'data point', 'this example i', 'this one', 'analysis scale', 'nodes', 'twenty', 'nodes', 'communication events', 'years', 'open question', 'something', 'this question', 'fact', 'the quadratic size structure', 'fast way', 'all communication events', 'pass', 'the sorted sequence', 'time', 'each communication', 'the vector clock city', 'time', 'the message', 'the current clock uses', 'the census message', 'the message', 'the vector clock ok', 'recent news', 'the potential', 'fresh information', 'think', 'the coordinate wise max', 'fact', 'communication see', 'potential viewers', 'information', 'view', 'this corner max', 'season', 'billions', 'communication events', 'time', 'factors', 'maintains representation', 'today', 'course', 'the amount', 'potential information gain', 'the communication', 'ok', 'lots', 'mind', 'something remind let', 'this tells', 'faculty', 'staff', 'the university', 'change email', 'use', 'people', 'these balls different radii', 'o point', 'node', 'everyone', 'twelve hours', 'hours current everyone', 'no information', 'the reason emails', 'the full set', 'communication events', 'data', 'the ball', 'radius tower', 'information rate', 'both sides', 'sort', 'piecewise exponential fashion', 'a bit', 'call', 'baseline', 'the timestamp', 'the centre', 'each email', 'random epidemic', 'the recipient', 'random', 'the same trace data', 'every time', 'message', 'someone shows', 'social structure', 'spread information', 'the spheres', 'a day', 'a half', 'the actual real social communication', 'the ball size', 'same speed', 'the epidemic interestingly', 'thirty', 'hours', 'rates', 'some sense', 'the real social communication', 'this set', 'average', 'twelve people', 'a day', 'the final decision', 'thirty', 'hours', 'people', 'randomized epidemic', 'bunches', 'fifty people', 'the case', 'way', 'the strength', 'weak ties', 'this idea', 'chance encounters', 'the queen', 'information', 'the article', 'mark granovetter', 'nineteen seventies', 'the social networks', 'close connections', 'triangles', 'long range connections', 'range', 'the length', 'path', 'the set', 'french b', 'c', 'this triangle', 'd', 'the reason', 'these long-range local bridges', 'a d', 'access', 'parts', 'the network', 'the otherwise', 'operation', 'sort', 'hard theory', 'the studies', 'interviews', 'people', 'the job opportunities', 'terms', 'the vector', 'somebody', 'long range', 'this gigantic vector clock brain', 'all sorts', 'coordinates', 'clock', 'this massive cloud', 'a function', 'message', 'the vector clock', 'somebody', 'range', 'sort', 'try', 'things', 'message', 'terms', 'the amount', 'the information', 'some sense', 'a kind', 'support', 'the theory', 'the strength', 'weak ties', 'reach infinity', 'an actual bridge', 'the disconnect', 'the graph', 'cetera', 'data', 'end', 'tiny components', 'the network', 'that information', 'this guy', 'the preference', 'variables', 'everything', 'this guy', 'the message', 'that b', 'everything', 'the messages', 'the message', 'marginalise', 'i', 'own message', 'i', 'ok ok i', 'the few slides', 'this well', 'the trees', 'kind', 'evidence everything sort', 'things downstream', 'the past upstream', 'no way', 'i', 'some cycle', 'something', 'children', 'i', 'parents', 'some kind', 'backflow', 'communication everything', 'propagation', 'centralized version', 'an down', 'these messages', 'the end', 'a possibilities', 'own potential', 'everybody', 'the opinions', 'other neighbours', 'the renormalized', 'kind', 'opinion', 'the opinion', 'others expresses', 'messages', 'variables', 'the probability', 'the algorithm', 'variable elimination', 'all directions', 'the same time', 'a relation', 'kind', 'sums', 'neighbouring', 'passes everything', 'this one', 'name address', 'this information', 'everybody same time', 'information', 'meaning', 'account', 'evidence', 'the running intersection property', 'the clusters', 'i constitute', 'subgraph', 'share', 'woman pasaran messages', 'the marginal', 'that variable', 'part', 'a variable y', 'the core', 'part', 'this message', 'this guy', 'something', 'the whole cluster', 'the variable elimination', 'procedure', 'the same kind', 'the same kind', 'thing', 'relational compute', 'the way', 'everything', 'a factor', 'ok', 'a summary', 'the algorithm', 'the following', 'the coronation order', 'cliques', 'the cluster graph', 'the maximal ones', 'tree', 'this density', 'the junction tree', 'the runtime', 'the size', 'these clicks', 'the maximum weight', 'tree', 'this case', 'the thing', 'messages', 'pass messages', 'days', 'a clique', 'the whole set', 'variables', 'number', 'example', 'i', 'grid', 'something', 'junction tree', 'the junction tree', 'this kind', 'structure', 'something', 'this structure start', 'something', 'these things', 'something', 'one', 'these guys', 'point', 'all other points', 'the points', 'outliers', 'points', 'a spectrum', 'future hyperinflation', 'details', 'the outline', 'the introduction', 'the rest', 'the tutorial i', 'the model', 'classification', 'a model', 'approach', 'approaches', 'kind', 'last year', 'adoption adoption', 'different models', 'special problem', 'special problem', 'the sample', 'i', 'a high dimensional points', 'an advertising', 'work', 'i', 'high dimensional', 'data', 'the detection', 'these approaches', 'some sample models', 'sample rooms', 'mind', 'class classification schema', 'the output', 'the rest', 'the resolution', 'the reference set', 'ok', 'all statistical tests', 'the general idea', 'this test', 'detection', 'a certain kind', 'statistical distribution', 'example gaussian distribution', 'the parameters', 'all data points', 'this statistical distribution', 'terms', 'the case', 'course', 'solution', 'the mean', 'standard deviation', 'outliers', 'points', 'low probability', 'distribution', 'that year', 'barnet discussion', 'the case', 'the problem', 'a caution distribution', 'the station periods', 'observation', 'much ten weeks', 'i', 'low probability', 'this mechanism', 'an online', 'the basic assumption', 'the normal data objects', 'distribution', 'course', 'the core', 'high probability regions small schools', 'lies', 'the other hand', 'deviate', 'distribution', 'the switch distribution', 'this basic idea', 'huge number', 'different tests', 'important difference', 'these tests', 'type', 'these data distribution', 'the number', 'number', 'variables', 'data', 'dimension', 'the data', 'number', 'distributions', 'normal distribution', 'distribution', 'mechanism', 'normal objects', 'parameter', 'parametric', 'non parametric approach nonparametric approach histogram', 'pragmatic approach', 'example', 'caution distribution meaning', 'i', 'short example', 'the one', 'discussion', 'gaussian distribution', 'multivariate data', 'model', 'parametric approach', 'the probability density function', 'a multivariate', 'the mean', 'covariance matrix', 'the mahalanobis distance', 'point', 'any point', 'this distance function', 'the interesting', 'this distance function', 'the chi square distribution', 'the degrees', 'freedom', 'the dimension', 'data space', 'typical statistical test', 'a distance', 'distance', 'threshold', 'all lines', 'the visualisation', 'people', 'the mean', 'the left-hand', 'side', 'the mean', 'these observations', 'the right-hand side', 'the bounds', 'this morning', 'the standard', 'function', 'average', 'the expectation', 'the empirical plus', 'the system', 'many times', 'n', 'this refined version', 'the variance', 'an upper bound', 'the variance', 'this case', 'the expectation', 'the expectation', 'i', 'this morning', 'this union bound', 'way', 'the set', 'functions', 'ways', 'the idea', 'these variants', 'this parameter', 'handle', 'the class', 'functions', 'the only measure', 'the size', 'the class', 'functions', 'the cardinality', 'the class', 'this trick', 'a little bit', 'ok', 'let', 'let', 'a simple example', 'a set', 'functions', 'finite', 'the property', 'the same predictions', 'the same type', 'errors', 'let', 'let', 'let', 'function f i', 'j', 'set', 'function', 'many times', 'the predictions', 'the errors', 'the sanctions', 'an upper bound', 'this fact', 'the following way', 'the difference', 'any function', 'class', 'the difference', 'the same thing', 'a fixed function', 'the difference', 'empirical average', 'the difference', 'f', 'any function', 'set', 'zero', 'something i', 'the centre', 'class', 'any function', 'class', 'terms', 'something', 'things inequality', 'function', 'something', 'bernstein', 'inequality', 'the fact', 'the variance', 'run valuable', 'the frequency', 'functions', 'different predictions', 'an upper bound', 'the variance', 'quantity', 'the result', 'this form', 'the fixed function', 'the bernstein', 'i', 'this point', 'the log', 'the size', 'the class', 'functions', 'these alpha', 'the upper bound', 'the difference', 'the function', 'the complexity', 'additional term', 'functions', 'the fact', 'functions', 'log', 'things look', 'the first point', 'the structure', 'the geometry', 'the class', 'functions', 'important i', 'aspect', 'this lecture', 'the set', 'lectures', 'the complexity', 'the class', 'functions', 'precise way', 'this function har', 'position', 'the space', 'a set', 'function', 'some kind', 'metric space', 'the functions', 'a certain distance', 'the distance', 'things', 'this right', 'the distance', 'functions', 'these distance', 'the set', 'function', 'a metric space', 'a certain structure', 'structure', 'the thing', 'the deviation b', 'example', 'the supremum', 'empirical process', 'the simple case', 'knowledge', 'the function', 'the structure', 'the first thing', 'this construction', 'the whole set', 'functions', 'capital', 'the set', 'function', 'the brakes', 'the brakes', 'the local forward', 'backwards', 'the car', 'apple', 'backwards', 'forwards', 'entertain', 'the twenty', 'dollars tuition', 'fluids', 'situations', 'way', 'leads', 'i', 'fluids', 'i', 'the rise', 'a shortcut way', 'equation', 'the new easy creation', 'kinetic energy', 'potential energy', 'suppose i', 'the fluid', 'non compressible', 'this cross sectional area', 'the pressure', 'i', 'the liquid', 'this level', 'a cross sectional area', 'a one', 'i', 'pressure p', 'level', 'i', 'increase', 'i', 'velocity', 'the cross section', 'these fluid', 'the feature', 'minus p', 'g', 'density', 'the fluid', 'the pressure', 'the pressure', 'gh', 'this difference', 'ro gh', 'mgh ngh gravitational potential energy', 'i', 'volume i', 'potential energy', 'volume', 'density', 'pressure', 'the dimension', 'energy', 'this whole machine', 'motion', 'players', 'hand kinetic energy', 'motion', 'kinetic energy', 'i', 'unit volume', 'gravitational potential energy', 'i', 'a unit volume', 'pressure', 'equal partners', 'conservation', 'g', 'the sum', 'the idea', 'noise equation', 'fluid element', 'position', 'another position', 'b', 'heights', 'pressure', 'the kinetic energy', 'unit volume', 'the kinetic energy', 'half mv', 'i', 'volume i', 'the script', 'gravitational potential energy', 'i', 'volume', 'date', 'early days', 'mit', 'the research', 'i', 'a long time', 'i', 'phd', 'the netherlands', 'nuclear physics', 'i', 'nineteen sixty', 'years', 'the idea', 'i', 'year', 'the post position', 'i', 'i joint c', 'x-ray astronomy group', 'professor ross', 'x-ray astronomy', 'the earth', 'atmosphere', 'the top', 'the earth', 'atmosphere', 'the x-rays', 'i', 'air', 'optical astronomy', 'radio astronomy', 'the ground', 'the kind', 'x-rays', 'i', 'dentist', 'energy range', 'these x-rays', 'thirty forty kilo electron volts', 'volt', 'the energy', 'terms', 'joules', 'the number', 'world war', 'the heat germany', 'brown', 'the v', 'rockets', 'destructive', 'purposes', 'panama', 'the war', 'the americans', 'these v', 'rockets', 'scientific purposes', 'rocket flights', 'x-rays', 'the sun', 'plays', 'nineteen forty', 'x-rays', 'the sun', 'a surprise', 'the power', 'energy', 'second', 'the sun', 'x-rays', 'the power', 'the radiation', 'the sun', 'the symbol', 'the sun', 'the minus', 'ten millions', 'the energy', 'energy point', 'view', 'great deal', 'sixty', 'scientist', 'cambridge', 'bruno rossi', 'a professor', 'mit', 'q', 'the street', 'american science', 'engineering', 'i', 'an experiment', 'x-rays', 'solar system', 'the odds', 'the reason', 'the song', 'stars', 'light', 'a chance', 'x-rays fact', 'the sensitivity', 'the detectors', 'these days', 'orders', 'magnitude factor', 'everyone exp', 'everyone', 'i', 'the object', 'the constellation scorpio', 'x-rays', 'the first x-ray source', 'the constellation', 'the total', 'output', 'that source', 'times', 'the sum', 'the source', 'many stars', 'the sky', 'way', 'x y', 'x-ray power', 'the optical power', 'scorex', 'thousand', 'other words', 'x-rays', 'source', 'energy', 'this sort', 'let', 'byproduct', 'the son', 'the main thing', 'the x-rays', 'sort', 'product', 'dollar question', 'those days', 'these objects', 'the sun', 'i', 'discuss', 'nineteen sixty', 'these x-ray sources', 'the sky', 'today', 'thousands', 'rocket flights', 'these rockets', 'white sands', 'minutes', 'the earth', 'atmosphere', 'minutes', 'the sky', 'sources', 'i', 'the group', 'professor george clark', 'mit', 'observations', 'balloons', 'the telescope', 'the balloon', 'the top', 'the atmosphere', 'rocket flight', 'the atmosphere', 'the flights', 'balloons', 'minutes rocket flights', 'days', 'the price', 'little atmosphere', 'force', 'o point', 'percent', 'the atmosphere', 'cause', 'effect', 'the absorption', 'x-rays', 'the rocket flights', 'the great advantage', 'many many hours', 'a rough idea', 'those days', 'i', 'graduate students', 'many undergraduate students', 'telescope', 'those days', 'the cost', 'dollars', 'years', 'the balloons', 'dollars', 'those days', 'helium', 'dollars', 'the surroundings', 'terms', 'temperature', 'thermal equilibrium equilibrium population', 'vacancies', 'a comparison', 'energy comparison', 'the binding energy', 'the energy', 'disruption', 'energy', 'destruction', 'energy', 'an atom', 'negative', 'the energy', 'a vacancy', 'a vacancy', 'atomic tweezers', 'the bonds', 'bond', 'others', 'the energy', 'vacancy formation', 'the disruptive energy', 'case thermal energy', 'way', 'gon', 'an exponential model', 'course', 'the fraction', 'the fraction', 'sites', 'the ratio', 'the number', 'vacancies', 'unit volume', 'the number', 'sites', 'unit volume', 'v', 'a number', 'vacancies', 'unit volume', 'big m', 'the number', 'atomic sites number', 'atomic sites', 'unit volume income', 'the ratio', 'this exponential', 'the energy', 'ii', 'energy', 'forth', 'enthalpy', 'vacancy formation', 'vacancy formation energy', 'a vacancy formation', 'energy', 'the thermal energy', 'a rough measure', 'the thermal energy', 'the product', 'the boltzmann', 'an absolute temperature', 'the temperature distribution', 'energy', 'relation', 'average energy', 'the system', 'the high entail', 'a prefactor', 'an entropic factor', 'values', 'the order', 'something', 'some cases', 'a relationship', 'the fraction', 'unoccupied sites', 'a function', 'temperature', 'the effect bond energy', 'the thermal energy', 'backwards', 'calculate', 'sample calculation', 'the vacancy population', 'a piece', 'copper', 'i', 'copper', 'enthalpy', 'the formation', 'vacancy', 'electron volts', 'atom', 'factor', 'tables', 'principles calculations', 'ok let', 'look', 'room temperature', 'room temperature', 'these numbers', 'the fraction', 'vacant sites', 'the minus', 'the density', 'copper', 'vacancies', 'vacancies', 'cubic centimeter', 'the inverse', 'none', 'avogadro', 'number', 'atoms', 'cubic centimeter', 'condensed matter', 'a hundred different insurance', 'each meaning', 'the melting point', 'the melting', 'point', 'copper ok i', 'the copper', 'ice']\n",
            "Number of noun phrases: 2383\n"
          ],
          "name": "stdout"
        }
      ]
    },
    {
      "cell_type": "markdown",
      "metadata": {
        "id": "b_9Ro9mrbD4C"
      },
      "source": [
        "From this point on we take the sentences and concatenate them to form strings of a fixed length *n*. We call these strings \"windows\" and we increment each window with a step size of *n/12*.\n",
        "\n",
        "*   After building the windows, we use the Universal Sentence Encoder to generate word embeddings for each string.\n",
        "*   We then use these embeddings to calculate the cosine similarity between two consecutive windows.\n",
        "*   The cosine similarity values are then plotted on a line chart which helps us understand the semantic similarity between consecutive windows.\n",
        "*   The local minimas at every point are where the previous and next segments are the least related, and they are taken as a candidate where we can segment the video\n",
        "*   Out of all the minimas, we pick the best points under a given threshold and evaluate them\n",
        "*   depth = peak value(left) + peak value(right)\n",
        "*   mew = np.mean(depths)\n",
        "*   sigma = np.std(depths)\n",
        "*   threshold = m * (mew - sigma)\n"
      ]
    },
    {
      "cell_type": "code",
      "metadata": {
        "id": "rOfsJpunbmZ4",
        "colab": {
          "base_uri": "https://localhost:8080/",
          "height": 838
        },
        "outputId": "9782316c-040b-4b22-f550-2b78b1a6d963"
      },
      "source": [
        "def build_sliding_window(init_times, sequence, window_size, step_size):\n",
        "  req_chunks = []\n",
        "  req_window_start_times = []\n",
        "  curr_window_start = 0\n",
        "  curr_window_end = step_size\n",
        "  print(len(init_times))\n",
        "  while (curr_window_end <= len(sequence)):\n",
        "    req_chunks.append(sequence[curr_window_start : curr_window_end])\n",
        "    req_window_start_times.append(init_times[curr_window_start])\n",
        "    curr_window_start += step_size\n",
        "    curr_window_end += step_size\n",
        "\n",
        "  return req_chunks, req_window_start_times\n",
        "\n",
        "\n",
        "def normalise_chunks(sentence_chunks):\n",
        "  sentences = []\n",
        "  for chunk in sentence_chunks:\n",
        "    sentences.append(chunk[0])\n",
        "  return sentences\n",
        "\n",
        "\n",
        "def plot_fig(x, score, heading, fig_no, can_plot):\n",
        "  if can_plot:\n",
        "    fig = plt.figure(fig_no, figsize=(14, 10))\n",
        "    ax = fig.add_subplot(111)\n",
        "    ax.plot(x, score, label=heading)\n",
        "\n",
        "  score_arr = np.array(score)\n",
        "  x_arr = np.array(x)\n",
        "  b = (np.diff(np.sign(np.diff(score_arr))) > 0).nonzero()[0] + 1  # Local minimas\n",
        "\n",
        "  prev_index = 0\n",
        "  peak_values = []\n",
        "  for minima_index in range(0, len(b) - 1):\n",
        "    peak_left = -1\n",
        "    for left_val in range(prev_index, b[minima_index]):\n",
        "      if (score_arr[left_val] > peak_left):\n",
        "        peak_left = score_arr[left_val]\n",
        "\n",
        "    peak_right = -1\n",
        "    for right_val in range(b[minima_index], b[minima_index + 1]):\n",
        "      if (score_arr[right_val] > peak_right):\n",
        "        peak_right = score_arr[right_val]\n",
        "\n",
        "    prev_index = b[minima_index]\n",
        "    peak_values.append((peak_left, peak_right))\n",
        "\n",
        "  depth_values = []\n",
        "  for i in range(0, len(peak_values)):\n",
        "    depth_val = (peak_values[i][0] - score_arr[b[i]]) + (peak_values[i][1] - score_arr[b[i]])\n",
        "    depth_values.append((depth_val, b[i]))\n",
        "\n",
        "  if can_plot:\n",
        "    ax.plot(x_arr[b], score_arr[b], \"o\", label=\"Deepest Valleys\", color='r')\n",
        "    ax.legend()\n",
        "\n",
        "  return b, depth_values\n",
        "\n",
        "def vectorise(sentences, sentence_len, fig_no):\n",
        "  sentence_embeddings = embed(sentences)\n",
        "  score = []\n",
        "  for i in range(0, len(sentence_embeddings) - 2):\n",
        "    x = tf.nn.l2_normalize(sentence_embeddings[i:i+1], axis=1)\n",
        "    y = tf.nn.l2_normalize(sentence_embeddings[i+1:i+2], axis=1)\n",
        "    cos_sim = tf.reduce_sum(tf.multiply(x, y), axis=1)\n",
        "    # score.append(cos_sim[0])\n",
        "    clip_cosine_similarities = tf.clip_by_value(cos_sim, -1.0, 1.0)\n",
        "    scores = 1.0 - tf.acos(clip_cosine_similarities) / math.pi\n",
        "    score.append(scores[0])\n",
        "  # Plotting Cosine Similarity\n",
        "  minimas, depth_values = plot_fig(range(1, len(sentence_embeddings) - 1), score,\n",
        "                      'Cosine Similarity with window size ' + str(sentence_len), fig_no, True)\n",
        "  return score, minimas, depth_values\n",
        "\n",
        "\n",
        "def get_best_points(messages, minimas, window_start_times, depth_values):\n",
        "  selected_windows = []\n",
        "  cos_sim_values = []\n",
        "  for minima_pair in minimas:\n",
        "    cos_sim_values.append(np.float(minima_pair[0]))\n",
        "\n",
        "  m = 0.3\n",
        "  depths = []\n",
        "  for d in depth_values:\n",
        "    depths.append(d[0])\n",
        "  mew = np.mean(depths)\n",
        "  sigma = np.std(depths)\n",
        "  threshold = m * (mew - sigma)\n",
        "  print(\"Threshold: \", threshold)\n",
        "\n",
        "  for d_val in depth_values:\n",
        "    if (d_val[0] > threshold):\n",
        "      selected_windows.append(window_start_times[d_val[1]])\n",
        "\n",
        "  return selected_windows\n",
        "\n",
        "\n",
        "window_size = 840\n",
        "step_size = window_size // 12\n",
        "print(\"\\nWindow size: \", window_size, \"Step size: \", step_size)\n",
        "\n",
        "chunks, window_start_times = build_sliding_window(init_times, subtitles, window_size, step_size)\n",
        "messages = normalise_chunks(chunks)\n",
        "\n",
        "# vectorising\n",
        "cos_sim_scores, loc_minimas, depth_values = vectorise(messages, window_size, 1)\n",
        "\n",
        "minimas = []\n",
        "for i in loc_minimas:\n",
        "  minimas.append((cos_sim_scores[i], i))\n",
        "\n",
        "boundaries = get_best_points(messages, minimas, window_start_times, depth_values)\n",
        "\n",
        "# for b in boundaries:\n",
        "#   print(b)\n",
        "\n",
        "print(\"no of boundaries \" + str(len(boundaries)))\n",
        "pos_predictions = 0\n",
        "\n",
        "output_file = open(\"./output.txt\", \"a\")\n",
        "output_file.write(\"\\nWindow size: \" + str(window_size) + \" Step size: \" + str(step_size))\n",
        "print(\"Boundary \\t\\t Actual Start Time \\t Difference in Seconds:\")\n",
        "for i in range(0, len(gt_start_times)):\n",
        "  min_diff = 999\n",
        "  boundary_date = \"\"\n",
        "  for j in range(0, len(boundaries)):\n",
        "    dt = datetime.datetime.combine(datetime.date(1900, 1, 1), boundaries[j])\n",
        "    diff = gt_start_times[i] - dt\n",
        "    if (abs(diff.total_seconds()) <= 60):\n",
        "      if (abs(diff.total_seconds()) < min_diff):\n",
        "        min_diff = abs(diff.total_seconds())\n",
        "        boundary_date = dt\n",
        "\n",
        "  if (min_diff <= 90):\n",
        "    pos_predictions += 1\n",
        "    output_file.write(\"\\nboundary: \" + str(boundary_date))\n",
        "    output_file.write(\"\\tactual start time: \" + str(gt_start_times[i]))\n",
        "    output_file.write(\"\\tdifference in seconds: \" + str(min_diff))\n",
        "    print(str(boundary_date)+\"\\t\"+str(gt_start_times[i])+\"\\t\"+str(min_diff))\n",
        "    #print(\"\\nboundary: \" + str(boundary_date))\n",
        "    #print(\"actual start time: \" + str(gt_start_times[i]))\n",
        "    #print(\"difference in seconds: \" + str(min_diff))\n",
        "\n",
        "print(\"Number of segments predicted: \" + str(pos_predictions))\n",
        "print(\"no. of actual segments: \" + str(len(gt_start_times)))\n",
        "output_file.write(\"\\nNumber of segments predicted: \" + str(pos_predictions))\n",
        "p = pos_predictions / len(boundaries)\n",
        "r = pos_predictions / len(gt_start_times)\n",
        "f = (2 * p * r) / (p + r)\n",
        "print(\"\\nPrecision: \" + str(p), \"Recall: \" + str(r), \"F-Score: \" + str(f))\n",
        "output_file.write(\"\\nPrecision: \" + str(p) + \"Recall: \" + str(r) + \"F-Score: \" + str(f))\n",
        "output_file.close()"
      ],
      "execution_count": null,
      "outputs": [
        {
          "output_type": "stream",
          "text": [
            "\n",
            "Window size:  840 Step size:  70\n",
            "1656\n",
            "Threshold:  0.020506875962018965\n",
            "no of boundaries 6\n",
            "Boundary \t\t Actual Start Time \t Difference in Seconds:\n",
            "1900-01-01 00:19:03.980000\t1900-01-01 00:18:18.110000\t45.87\n",
            "1900-01-01 00:50:21.600000\t1900-01-01 00:50:25.030000\t3.43\n",
            "1900-01-01 01:03:15.560000\t1900-01-01 01:02:29.840000\t45.72\n",
            "Number of segments predicted: 3\n",
            "no. of actual segments: 20\n",
            "\n",
            "Precision: 0.5 Recall: 0.15 F-Score: 0.23076923076923075\n"
          ],
          "name": "stdout"
        },
        {
          "output_type": "display_data",
          "data": {
            "image/png": "[encoded data removed]",
            "text/plain": [
              "<Figure size 1008x720 with 1 Axes>"
            ]
          },
          "metadata": {
            "tags": [],
            "needs_background": "light"
          }
        }
      ]
    }
  ]
}